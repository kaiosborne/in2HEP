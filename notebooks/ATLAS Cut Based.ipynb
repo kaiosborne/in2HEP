{
 "cells": [
  {
   "cell_type": "markdown",
   "metadata": {},
   "source": [
    "# 1.1 Searching for $H\\rightarrow b\\bar{b}$\n",
    "\n",
    "One of the primary physics objectives of the Large Hadron Collider is to study the Higgs Boson and understand the process with which particles acquire mass. The Higgs Boson's decays channels along with the respective branching ratios are shown in the figure below. \n",
    "\n",
    "<img src=\"https://physicsforme.files.wordpress.com/2012/07/higgs_decay.jpg\" width=\"400\" />\n",
    "\n",
    "\n",
    "\n",
    "In 2012 the Higgs Boson was discovered in the $H\\rightarrow\\gamma\\gamma$ and $H\\rightarrow ZZ \\rightarrow 4l$. The plot below shows a clear excess of signal events over background around 125 GeV in the $H\\rightarrow ZZ \\rightarrow 4l$ 'golden channel'. \n",
    "\n",
    "<img src=\"https://3c1703fe8d.site.internapcdn.net/newman/gfx/news/hires/2017/newatlasprec.png\" width=\"400\" />\n",
    "\n",
    "\n",
    "But if the Higgs Boson predominantly decays to a pair of $b$-quarks, why wasn't it discovered in the $H\\rightarrow b\\bar{b}$ channel? \n",
    "\n",
    "The discovery channels leave a clean signature in the detector that is easy to isolate making searches in the $H\\rightarrow\\gamma\\gamma$ or $H\\rightarrow ZZ \\rightarrow 4l$ favourable. However, $H\\rightarrow b\\bar{b}$ searches aren't so straightforward!\n",
    "\n",
    "Here's why:\n",
    "\n",
    "## Large background \n",
    "\n",
    "Firstly, the $H\\rightarrow b\\bar{b}$ process at the LHC has enourmous amount of background with final states that are the same as the signal i.e. two $b$-quarks. The figure below shows the cross sections (likelihood) of a Higgs event and compared to a bb event at the LHC. In the LHC current operational energy, only around 1 in a trillion proton-proton collisions create a Higgs boson. \n",
    "\n",
    "\n",
    "<img src=\"../docs/images/lhc_cross_sections.png\" width=\"400\" />\n",
    "\n",
    "Hence, the signal can get drowned out in with the signal-like background. \n",
    "\n",
    "## Jet Production\n",
    "\n",
    "Secondly, precisely measuring and distinguishing $b$-quarks from say $c$-quarks is also challenging. When a pair of $b$-quarks is created in the ATLAS detector they go through a process known as hadronisation and form [jets](https://www.youtube.com/watch?v=FMH3T05G\\_to). The jets must be identified as originating from b-quarks (b-jets) by a process known as $b$-tagging. This extra level of complexity along with the large background makes searches for $H\\rightarrow b\\bar{b}$ challenging. "
   ]
  },
  {
   "cell_type": "markdown",
   "metadata": {},
   "source": [
    "## 1.2 One - Lepton Channel\n",
    "\n",
    "The process we will be searching for is shown in the Feynman Diagram below. A Higgs Boson is radiated off a $W^\\pm$ boson which subsequently decays to a pair of _b_-quarks. The $W^\\pm$ boson then goes on to decay into a lepton and a corresponding neutrino. \n",
    "\n",
    "<img src=\"images/one-lepton.png\" width=\"350\" />\n",
    "\n",
    "\n",
    "\n",
    "The final state products of a 1-lepton channel $H\\rightarrow b\\bar{b}$ process are:\n",
    "   * A Neutrino\n",
    "   * A charged Lepton (e u)\n",
    "   * 2 _b_-jets\n"
   ]
  },
  {
   "cell_type": "markdown",
   "metadata": {},
   "source": [
    "## 1.4 Separating Signal from Background\n",
    "\n",
    "\n",
    "We separate ATLAS events using *Kinematic* (momentum, energy, mass etc) and Topological parameters (spatial separation between particles). A list of the event variables that we will be using in this exercise is shown below: \n",
    "\n",
    "\n",
    "\n",
    "| Variable        | Description           | Label  |\n",
    "| ------------- |:-------------:| -----:|\n",
    "|$\\Delta R(b_1b_2)$      | Reconstructed mass of the two *b*-tagged jets | dRBB |\n",
    "| $p_T^V$      | Missing Transverse Momentum      |   pTV |\n",
    "| $m_{top}$ | Reconstructed Top Quark Mass      |    Mtop |\n",
    "| $E^{Miss}_{T}$ | Missing Transverse Energy     |    MET |\n",
    "\n",
    "\n",
    "                    Table 1: Kinematic and topological paramaeters used to identify events. \n",
    "\n"
   ]
  },
  {
   "cell_type": "markdown",
   "metadata": {},
   "source": [
    "## 2. $H\\rightarrow b\\bar{b}$ via Sequential Cuts\n",
    "\n",
    "In this section we are going to be applying a set of selection cuts on the kinematic and topological paramaters to select signal events and reject background events. We will be applying cuts on all variables other than $m_{bb}$ and see what effect the cut has on the $m_{bb}$ distribution histogram. \n",
    "\n",
    "To evaluate the cuts we will compare the number of signal and background events in each bin to calculate the _signal sensitivity_. Our goal is to apply cuts that isolate as much of the signal as possible and maximise the _signal sensitivity_. \n",
    "\n",
    "\n",
    "# 2.1 Finding Cuts\n",
    "\n",
    "**In this section we will be using the simulated data to determine what cuts must be applied on the kinematic and topoligical parameters to identify the signal region.**\n",
    "\n",
    "\n",
    "To do this we will use the plot_variable() function to visualise how a particular kinematic or topological event variable is distributed for the various process involved. We wll use this distribution to determine the appropriate cuts. Let's use an example to illustrate this concept.\n",
    "\n",
    "The code below plots the distribution of the reconstructed top mass $M_{top}$. The signal (labelled $VH \\rightarrow bb$ in the legend) is shown in red on the histogram. For clarity a red solid line has also been plotted to help identify the sigal region. \n",
    "\n"
   ]
  },
  {
   "cell_type": "code",
   "execution_count": null,
   "metadata": {},
   "outputs": [],
   "source": [
    "# Download the data files if we need them. If you download the repo as a ZIP, \n",
    "# this cell is not needed. If running on colab, it will automatically download\n",
    "# all required data.\n",
    "\n",
    "from pathlib import Path\n",
    "\n",
    "data_path = Path('../data-v1/VHbb_data_2jet.csv')\n",
    "class_path = Path('ucl_masterclass.py')\n",
    "if not data_path.exists():\n",
    "    !wget -P ../data-v1/ https://raw.githubusercontent.com/nikitapond/in2HEP/master/data-v1/VHbb_data_2jet.csv \n",
    "else:\n",
    "    print(\"Data file already found\")\n",
    "if not class_path.exists():\n",
    "    !wget https://raw.githubusercontent.com/nikitapond/in2HEP/master/notebooks/ucl_masterclass.py\n",
    "else:\n",
    "    print(\"Required custom classes already found\")"
   ]
  },
  {
   "cell_type": "code",
   "execution_count": 2,
   "metadata": {},
   "outputs": [
    {
     "data": {
      "image/png": "[encoded data removed]",
      "text/plain": [
       "<Figure size 734.4x604.8 with 1 Axes>"
      ]
     },
     "metadata": {
      "needs_background": "light"
     },
     "output_type": "display_data"
    }
   ],
   "source": [
    "# Importing required libraries\n",
    "import pandas as pd\n",
    "import numpy as np\n",
    "from copy import deepcopy\n",
    "from ucl_masterclass import *\n",
    "\n",
    "# Loading Data\n",
    "\n",
    "# The data is loaded into a pandas data frame\n",
    "df = pd.read_csv('../data-v1/VHbb_data_2jet.csv')\n",
    "df_original = deepcopy(df)\n",
    "\n",
    "\n",
    "# The plot_variable takes two arguments. First is the data frame used to plot the distributions and\n",
    "# second is the variable in question. \n",
    "\n",
    "plot_variable(df,'Mtop')"
   ]
  },
  {
   "cell_type": "markdown",
   "metadata": {
    "collapsed": true
   },
   "source": [
    "### Exercise 2.1 Use the plot variable function to plot another variable (like MET) which is the missing transverse energy."
   ]
  },
  {
   "cell_type": "code",
   "execution_count": null,
   "metadata": {},
   "outputs": [],
   "source": [
    "# make your plot here!\n",
    "\n"
   ]
  },
  {
   "cell_type": "markdown",
   "metadata": {},
   "source": [
    "### Exercise 2.2 Plot the event variables and determine the cuts that will isolate the signal region. Note these cuts down in your notebook.\n",
    "\n",
    "\n",
    "An example is shown in the cells below where it was identified that by requiring that Mtop > 225 GeV we eliminate a large amount of the $t\\bar{t}$ and single top background. \n",
    "\n",
    "By changing the variable plotted determine your own list of cuts. "
   ]
  },
  {
   "cell_type": "code",
   "execution_count": null,
   "metadata": {},
   "outputs": [],
   "source": [
    "# Reload data\n",
    "df = pd.read_csv('../data-v1/VHbb_data_2jet.csv')\n",
    "\n",
    "# Apply cut\n",
    "df = df.loc[df[\"Mtop\"] / 1e3 > 250] # divide by 1e3 to convert from MeV to GeV\n",
    "\n",
    "# The code below plots the mBB distribution after the cut is applied\n",
    "plot_variable(df_original,'mBB')\n",
    "print(\"Sensitivity achieved before cuts \",sensitivity_cut_based(df_original))\n",
    "\n",
    "plot_variable(df,'mBB')\n",
    "\n",
    "print(\"Sensitivity achieved after cuts \",sensitivity_cut_based(df))"
   ]
  },
  {
   "cell_type": "markdown",
   "metadata": {},
   "source": [
    "As shown in the above plots of the $m_{bb}$ distribution, once the cut is applied we eliminate a large amount of $t\\bar{t}$ background.\n",
    "\n",
    "### Determine a set of additional cuts that will help isolate the signal. Each time you optimise a new cut value, note down the new sensitivity. After you have optimised all the cuts, plot the sensitivity increase as each new cut is applied. Code to create plots in python is provided below. \n",
    "\n",
    "\n",
    "Use the cell below to apply your final cuts sequentially. \n",
    "\n"
   ]
  },
  {
   "cell_type": "code",
   "execution_count": null,
   "metadata": {},
   "outputs": [],
   "source": [
    "# Reload data\n",
    "df = pd.read_csv('../data-v1/VHbb_data_2jet.csv')\n",
    "\n",
    "# Apply a cut here!\n",
    "# =================\n",
    "\n",
    "\n",
    "\n",
    "# The code below plots the mBB distribution after the cut is applied\n",
    "plot_variable(df_original,'mBB')\n",
    "print(\"Sensitivity achieved before cuts \",sensitivity_cut_based(df_original))\n",
    "\n",
    "plot_variable(df,'mBB')\n",
    "\n",
    "print(\"Sensitivity achieved after cuts \",sensitivity_cut_based(df))"
   ]
  },
  {
   "cell_type": "code",
   "execution_count": null,
   "metadata": {},
   "outputs": [],
   "source": [
    "## Plotting sensitivity graph\n",
    "\n",
    "# Add the sensitivities you noted down to the list\n",
    "sensitivities = \n",
    "\n",
    "# Add variable names to the list below. Make sure you keep the same order\n",
    "variable_names = \n",
    "\n",
    "num_variables_used = len(sensitivities)\n",
    "\n",
    "\n",
    "\n",
    "fig = plt.figure()\n",
    "fig.set_size_inches(8.5,7)\n",
    "x = list(np.arange(0,num_variables_used,1))\n",
    "plt.plot(x,sensitivities,'o')\n",
    "plt.xlim(-1,5)\n",
    "plt.ylim(1,3)\n",
    "plt.xticks(x, variable_names);\n",
    "\n",
    "plt.xlabel('Variables')\n",
    "plt.ylabel('Sensitivity')\n",
    "\n",
    "\n",
    "# Once you have finalised your plots you can export a .png file by uncommenting the code below\n",
    "#plt.savefig('cut_based_variable_comparison.png')"
   ]
  },
  {
   "cell_type": "markdown",
   "metadata": {},
   "source": [
    "### Summary\n",
    "\n",
    "In this tutorial you developed a cut-based analysis on Monte Carlo generated ATLAS data to search for the Higgs Boson's decay to a pair of _b_-quarks. This is a tried and tested approach that is much loved by physicists as one can theoretically motivate the cuts to create a signal region. But can we improve on this? In the next tutorial we will be using Machine Learning to push the boundaries of our analysis and try to obtain sensitivity gains. "
   ]
  }
 ],
 "metadata": {
  "kernelspec": {
   "display_name": "Python 3",
   "language": "python",
   "name": "python3"
  },
  "language_info": {
   "codemirror_mode": {
    "name": "ipython",
    "version": 3
   },
   "file_extension": ".py",
   "mimetype": "text/x-python",
   "name": "python",
   "nbconvert_exporter": "python",
   "pygments_lexer": "ipython3",
   "version": "3.6.8"
  }
 },
 "nbformat": 4,
 "nbformat_minor": 2
}
